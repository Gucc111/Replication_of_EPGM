{
 "cells": [
  {
   "cell_type": "code",
   "execution_count": 1,
   "metadata": {},
   "outputs": [],
   "source": [
    "import numpy as np\n",
    "\n",
    "from src.test_data import case_list, y\n",
    "from src.model import *\n",
    "from src.similarity import sim_attr, get_alternative\n",
    "from src.spa import *\n",
    "from src.utils import *"
   ]
  },
  {
   "cell_type": "code",
   "execution_count": null,
   "metadata": {},
   "outputs": [],
   "source": [
    "alpha = 0.5\n",
    "tao = 0.7\n",
    "\n",
    "alternative_list = get_alternative(case_list, y, 0.5, 0.7)\n",
    "\n",
    "em_plan = set_pari_analysis(alternative_list)"
   ]
  },
  {
   "cell_type": "code",
   "execution_count": 3,
   "metadata": {},
   "outputs": [
    {
     "data": {
      "text/plain": [
       "['北部林区', 3, 3, [4, 18], 5.5, nan, 3600, nan, 5]"
      ]
     },
     "execution_count": 3,
     "metadata": {},
     "output_type": "execute_result"
    }
   ],
   "source": [
    "em_plan.scenario.get_attrvalues()"
   ]
  },
  {
   "cell_type": "code",
   "execution_count": 4,
   "metadata": {},
   "outputs": [
    {
     "data": {
      "text/plain": [
       "[1173, 202.5, 522, 0.4, 0.95, 0.65]"
      ]
     },
     "execution_count": 4,
     "metadata": {},
     "output_type": "execute_result"
    }
   ],
   "source": [
    "em_plan.effect.get_attrvalues()"
   ]
  },
  {
   "cell_type": "markdown",
   "metadata": {},
   "source": [
    "# 基于遗传算法修正属性值"
   ]
  },
  {
   "cell_type": "markdown",
   "metadata": {},
   "source": [
    "## 交叉"
   ]
  },
  {
   "cell_type": "code",
   "execution_count": null,
   "metadata": {},
   "outputs": [],
   "source": [
    "action_list = get_knowledge(alternative_list, 'action')\n",
    "\n",
    "# 共有属性的相似度\n",
    "similarity_attr = sim_attr(action_list, y.action) # (m, n) m个行动，n个属性\n",
    "\n",
    "# 每种相似度最高的属性索引\n",
    "indices = np.argmax(similarity_attr, axis=0)\n",
    "\n",
    "# 共有属性值矩阵\n",
    "common_attr = y.action.get_common_attrs(action_list)\n",
    "action_matrix = attr_matrix(common_attr, action_list)\n",
    "\n",
    "# 取出相似度最高的属性值\n",
    "best_attr = action_matrix[indices, np.arange(len(common_attr))]\n",
    "\n",
    "# 修改初步应急方案中的属性值\n",
    "for attr_name, value in zip(common_attr, best_attr):\n",
    "    em_plan.action.update_attribute(attr_name, value)"
   ]
  },
  {
   "cell_type": "markdown",
   "metadata": {},
   "source": [
    "## 变异"
   ]
  },
  {
   "cell_type": "code",
   "execution_count": null,
   "metadata": {},
   "outputs": [],
   "source": [
    "for case in alternative_list:\n",
    "    # 找到备选方案集中未参与交叉的属性\n",
    "    sup_attr = set(case.action.attr_names) - set(case.action.get_common_attrs([em_plan.action]))\n",
    "    \n",
    "    sup_value = case.action.get_attrvalues()\n",
    "    sup_dtype = case.action.get_attr_dtype(sup_attr)\n",
    "    sup_unit = case.action.get_unit(sup_attr)\n",
    "    \n",
    "    attr_list = []\n",
    "    \n",
    "    for i in zip(sup_attr, sup_value, sup_dtype, sup_unit):\n",
    "        attr_list.append(list(i))\n",
    "    em_plan.action.add_attributes(attr_list)"
   ]
  }
 ],
 "metadata": {
  "kernelspec": {
   "display_name": "deep_learning",
   "language": "python",
   "name": "python3"
  },
  "language_info": {
   "codemirror_mode": {
    "name": "ipython",
    "version": 3
   },
   "file_extension": ".py",
   "mimetype": "text/x-python",
   "name": "python",
   "nbconvert_exporter": "python",
   "pygments_lexer": "ipython3",
   "version": "3.9.20"
  }
 },
 "nbformat": 4,
 "nbformat_minor": 2
}
